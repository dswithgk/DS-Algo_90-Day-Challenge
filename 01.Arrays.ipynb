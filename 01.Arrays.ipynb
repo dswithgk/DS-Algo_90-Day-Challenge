{
 "cells": [
  {
   "cell_type": "markdown",
   "metadata": {},
   "source": [
    "# Linear Search"
   ]
  },
  {
   "cell_type": "code",
   "execution_count": 2,
   "metadata": {},
   "outputs": [
    {
     "name": "stdout",
     "output_type": "stream",
     "text": [
      "3\n"
     ]
    }
   ],
   "source": [
    "def linear_search(arr, target):\n",
    "    for i in range(len(arr)):\n",
    "        if arr[i] == target:\n",
    "            return i  # Return index of found element\n",
    "    return -1  # Element not found\n",
    "\n",
    "# Example usage\n",
    "arr = [3, 5, 7, 9, 11, 15]\n",
    "target = 9\n",
    "print(linear_search(arr, target))  # Output: 3\n"
   ]
  },
  {
   "cell_type": "markdown",
   "metadata": {},
   "source": [
    "# Binary Search"
   ]
  },
  {
   "cell_type": "code",
   "execution_count": 3,
   "metadata": {},
   "outputs": [
    {
     "name": "stdout",
     "output_type": "stream",
     "text": [
      "3\n"
     ]
    }
   ],
   "source": [
    "def binary_search(arr, target):\n",
    "    left, right = 0, len(arr) - 1\n",
    "    while left <= right:\n",
    "        mid = (left + right) // 2\n",
    "        if arr[mid] == target:\n",
    "            return mid  # Found\n",
    "        elif arr[mid] < target:\n",
    "            left = mid + 1  # Search in the right half\n",
    "        else:\n",
    "            right = mid - 1  # Search in the left half\n",
    "    return -1  # Not found\n",
    "\n",
    "# Example usage\n",
    "arr = [3, 5, 7, 9, 11, 15]\n",
    "target = 9\n",
    "print(binary_search(arr, target))  # Output: 3"
   ]
  },
  {
   "cell_type": "code",
   "execution_count": 4,
   "metadata": {},
   "outputs": [
    {
     "name": "stdout",
     "output_type": "stream",
     "text": [
      "3\n"
     ]
    }
   ],
   "source": [
    "def binary_search_recursive(arr, left, right, target):\n",
    "    if left > right:\n",
    "        return -1  # Base case: element not found\n",
    "    mid = (left + right) // 2\n",
    "    if arr[mid] == target:\n",
    "        return mid\n",
    "    elif arr[mid] < target:\n",
    "        return binary_search_recursive(arr, mid + 1, right, target)  # Search right half\n",
    "    else:\n",
    "        return binary_search_recursive(arr, left, mid - 1, target)  # Search left half\n",
    "\n",
    "# Example usage\n",
    "arr = [3, 5, 7, 9, 11, 15]\n",
    "target = 9\n",
    "print(binary_search_recursive(arr, 0, len(arr) - 1, target))  # Output: 3"
   ]
  },
  {
   "cell_type": "markdown",
   "metadata": {},
   "source": [
    "# Array Reverse"
   ]
  },
  {
   "cell_type": "code",
   "execution_count": 5,
   "metadata": {},
   "outputs": [
    {
     "name": "stdout",
     "output_type": "stream",
     "text": [
      "[5, 4, 3, 2, 1]\n"
     ]
    }
   ],
   "source": [
    "arr = [1, 2, 3, 4, 5]\n",
    "reversed_arr = []\n",
    "for i in range(len(arr) - 1, -1, -1):\n",
    "    reversed_arr.append(arr[i])\n",
    "print(reversed_arr)  # Output: [5, 4, 3, 2, 1]"
   ]
  },
  {
   "cell_type": "code",
   "execution_count": 6,
   "metadata": {},
   "outputs": [
    {
     "name": "stdout",
     "output_type": "stream",
     "text": [
      "[5, 4, 3, 2, 1]\n"
     ]
    }
   ],
   "source": [
    "def reverse_list(arr):\n",
    "    left, right = 0, len(arr) - 1\n",
    "    while left < right:\n",
    "        arr[left], arr[right] = arr[right], arr[left]  # Swap elements\n",
    "        left += 1\n",
    "        right -= 1\n",
    "    return arr\n",
    "\n",
    "arr = [1, 2, 3, 4, 5]\n",
    "print(reverse_list(arr))  # Output: [5, 4, 3, 2, 1]"
   ]
  },
  {
   "cell_type": "markdown",
   "metadata": {},
   "source": [
    "# Print All Pair"
   ]
  },
  {
   "cell_type": "code",
   "execution_count": 8,
   "metadata": {},
   "outputs": [
    {
     "name": "stdout",
     "output_type": "stream",
     "text": [
      "1 2\n",
      "1 3\n",
      "1 4\n",
      "1 5\n",
      "2 3\n",
      "2 4\n",
      "2 5\n",
      "3 4\n",
      "3 5\n",
      "4 5\n"
     ]
    }
   ],
   "source": [
    "def form_pair(arr):\n",
    "    for i,x in enumerate(arr):\n",
    "        for y in arr[i+1:]:\n",
    "            print(x, y)\n",
    "\n",
    "form_pair([1, 2, 3, 4, 5])"
   ]
  },
  {
   "cell_type": "markdown",
   "metadata": {},
   "source": [
    "# Max SubArray Sum"
   ]
  },
  {
   "cell_type": "code",
   "execution_count": 11,
   "metadata": {},
   "outputs": [
    {
     "name": "stdout",
     "output_type": "stream",
     "text": [
      "[1] -> 1\n",
      "[1, 2] -> 3\n",
      "[1, 2, 3] -> 6\n",
      "[1, 2, 3, 4] -> 10\n",
      "[1, 2, 3, 4, 5] -> 15\n",
      "[2] -> 2\n",
      "[2, 3] -> 5\n",
      "[2, 3, 4] -> 9\n",
      "[2, 3, 4, 5] -> 14\n",
      "[3] -> 3\n",
      "[3, 4] -> 7\n",
      "[3, 4, 5] -> 12\n",
      "[4] -> 4\n",
      "[4, 5] -> 9\n",
      "[5] -> 5\n",
      "\n",
      "\n",
      "Largest Sum : 15\n"
     ]
    }
   ],
   "source": [
    "def subarray_sum(arr):\n",
    "    largest_sum = 0\n",
    "    for i in range(len(arr)):\n",
    "        for j in range(i, len(arr)):\n",
    "            print(arr[i:j+1], '->', sum(arr[i:j+1]))\n",
    "            largest_sum = max(largest_sum, sum(arr[i:j+1]))\n",
    "    return largest_sum\n",
    "lsum = subarray_sum([1, 2, 3, 4, 5])\n",
    "print(f\"\\n\\nLargest Sum : {lsum}\")"
   ]
  },
  {
   "cell_type": "code",
   "execution_count": 17,
   "metadata": {},
   "outputs": [
    {
     "data": {
      "text/plain": [
       "6"
      ]
     },
     "execution_count": 17,
     "metadata": {},
     "output_type": "execute_result"
    }
   ],
   "source": [
    "def prefix_sum(arr):\n",
    "    prefix = [0]\n",
    "    for i in range(len(arr)):\n",
    "        prefix.append(prefix[-1] + arr[i])\n",
    "    \n",
    "    largest_sum = 0\n",
    "    for i in range(len(prefix)):\n",
    "        for j in range(i+1, len(prefix)):\n",
    "            largest_sum = max(largest_sum, prefix[j] - prefix[i])\n",
    "    return largest_sum\n",
    "\n",
    "prefix_sum([1, 2, 3,-5, 4,-5,-10])"
   ]
  },
  {
   "cell_type": "code",
   "execution_count": 18,
   "metadata": {},
   "outputs": [
    {
     "data": {
      "text/plain": [
       "11"
      ]
     },
     "execution_count": 18,
     "metadata": {},
     "output_type": "execute_result"
    }
   ],
   "source": [
    "def kadane_algo(arr):\n",
    "    lsum = 0\n",
    "    curr = 0\n",
    "    for x in arr:\n",
    "        curr = curr + x\n",
    "        if curr < 0:\n",
    "            curr = 0\n",
    "        lsum = max(lsum, curr)\n",
    "    return lsum\n",
    "\n",
    "kadane_algo([-2,3,4,-1,5,-12,6,1,3])"
   ]
  },
  {
   "cell_type": "markdown",
   "metadata": {},
   "source": [
    "# Sorted Pair Sum\n",
    "\n",
    "\n",
    "\n",
    "Given a sorted array and a number x, find a pair in array whose sum is closest to x.\n",
    "\n",
    "<br>\n",
    "<b>Input Format</b>\n",
    "\n",
    "In the function an integer vector and number x is passed.\n",
    "\n",
    "<br>\n",
    "\n",
    "<b>Output Format</b>\n",
    "\n",
    "Return a pair of integers.\n",
    "\n",
    "<br>\n",
    "\n",
    "<b>Sample Input</b>\n",
    "\n",
    "{10, 22, 28, 29, 30, 40}, x = 54\n",
    "\n",
    "<br>\n",
    "\n",
    "<b>Sample Output</b>\n",
    "\n",
    "22 and 30"
   ]
  },
  {
   "cell_type": "code",
   "execution_count": 23,
   "metadata": {},
   "outputs": [
    {
     "data": {
      "text/plain": [
       "(22, 30)"
      ]
     },
     "execution_count": 23,
     "metadata": {},
     "output_type": "execute_result"
    }
   ],
   "source": [
    "def sorted_pair_sum(arr,x):\n",
    "    i=0\n",
    "    j=len(arr)-1\n",
    "    res = (0,0)\n",
    "\n",
    "    closest = float('inf')\n",
    "    while i<j:\n",
    "        summ = arr[i]+arr[j]\n",
    "        if abs(summ - x) < closest:\n",
    "            closest = abs(summ - x)\n",
    "            res = (arr[i],arr[j])\n",
    "        \n",
    "        if summ < x:\n",
    "            i += 1\n",
    "        else:\n",
    "            j -= 1\n",
    "    return res\n",
    "\n",
    "\n",
    "sorted_pair_sum([10, 22, 28, 29, 30, 40],54)"
   ]
  }
 ],
 "metadata": {
  "kernelspec": {
   "display_name": "base",
   "language": "python",
   "name": "python3"
  },
  "language_info": {
   "codemirror_mode": {
    "name": "ipython",
    "version": 3
   },
   "file_extension": ".py",
   "mimetype": "text/x-python",
   "name": "python",
   "nbconvert_exporter": "python",
   "pygments_lexer": "ipython3",
   "version": "3.12.9"
  }
 },
 "nbformat": 4,
 "nbformat_minor": 2
}
