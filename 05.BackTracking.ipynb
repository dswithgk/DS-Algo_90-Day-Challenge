{
 "cells": [
  {
   "cell_type": "markdown",
   "metadata": {},
   "source": [
    "# Backtracking\n",
    "\n",
    "1. Decision Problem\n",
    "2. Optimization Problem\n",
    "3. Enumeration Problem"
   ]
  },
  {
   "cell_type": "markdown",
   "metadata": {},
   "source": [
    "## Subset of String"
   ]
  },
  {
   "cell_type": "code",
   "execution_count": 4,
   "metadata": {},
   "outputs": [
    {
     "data": {
      "text/plain": [
       "['', 'c', 'b', 'bc', 'a', 'ac', 'ab', 'abc']"
      ]
     },
     "execution_count": 4,
     "metadata": {},
     "output_type": "execute_result"
    }
   ],
   "source": [
    "def subset_string(st):\n",
    "    if len(st)==0:\n",
    "        return [\"\"]\n",
    "    sub = subset_string(st[1:])\n",
    "    return sub + [st[0]+s for s in sub]\n",
    "\n",
    "\n",
    "subset_string(\"abc\")"
   ]
  },
  {
   "cell_type": "code",
   "execution_count": 8,
   "metadata": {},
   "outputs": [
    {
     "name": "stdout",
     "output_type": "stream",
     "text": [
      " c b bc a ac ab abc "
     ]
    },
    {
     "data": {
      "text/plain": [
       "''"
      ]
     },
     "execution_count": 8,
     "metadata": {},
     "output_type": "execute_result"
    }
   ],
   "source": [
    "def subset_string(st,val):\n",
    "    if len(st)==0:\n",
    "        print(val,end = ' ')\n",
    "        return \"\"\n",
    "    return subset_string(st[1:],val) + subset_string(st[1:],val+st[0])\n",
    "\n",
    "subset_string(\"abc\",\"\")"
   ]
  },
  {
   "cell_type": "markdown",
   "metadata": {},
   "source": [
    "# Permutations of String"
   ]
  },
  {
   "cell_type": "code",
   "execution_count": 18,
   "metadata": {},
   "outputs": [
    {
     "data": {
      "text/plain": [
       "['abc', 'acb', 'bac', 'bca', 'cab', 'cba']"
      ]
     },
     "execution_count": 18,
     "metadata": {},
     "output_type": "execute_result"
    }
   ],
   "source": [
    "def permute_list(st):\n",
    "    if len(st)==1:\n",
    "        return [st]\n",
    "    \n",
    "    all = []\n",
    "    for i,x in enumerate(st):\n",
    "        sub = permute_list(st[:i]+st[i+1:])\n",
    "        ans = [x+y for y in sub]\n",
    "        all.extend(ans)\n",
    "    return all\n",
    "\n",
    "permute_list(\"abc\")"
   ]
  },
  {
   "cell_type": "markdown",
   "metadata": {},
   "source": [
    "# N-Queen"
   ]
  },
  {
   "cell_type": "code",
   "execution_count": 61,
   "metadata": {},
   "outputs": [
    {
     "name": "stdout",
     "output_type": "stream",
     "text": [
      "[[0, 1, 0, 0], [0, 0, 0, 1], [1, 0, 0, 0], [0, 0, 1, 0]]\n",
      "[[0, 0, 1, 0], [1, 0, 0, 0], [0, 0, 0, 1], [0, 1, 0, 0]]\n"
     ]
    }
   ],
   "source": [
    "def is_valid(arr):\n",
    "    pos = []\n",
    "    for x in arr:\n",
    "        for i,x1 in enumerate(x):\n",
    "            if x1==1:\n",
    "                # Present in that col\n",
    "                for jj in pos:\n",
    "                    if jj==i:\n",
    "                        return False\n",
    "                \n",
    "                # Can Cut\n",
    "                if len(pos)>0:\n",
    "                    if abs(pos[-1]-i)==1:\n",
    "                        return False\n",
    "                     \n",
    "                pos.append(i)\n",
    "\n",
    "    if len(pos)==4:\n",
    "        return True\n",
    "    return False\n",
    "\n",
    "def nqueen(arr,j):\n",
    "    if j== len(arr):\n",
    "        if is_valid(arr):\n",
    "            print(arr)\n",
    "            return\n",
    "        else:\n",
    "            return \n",
    "    \n",
    "    for i in range(len(arr)):\n",
    "        arr[j][i] = 1\n",
    "        ans = nqueen(arr,j+1)\n",
    "\n",
    "        if ans:\n",
    "            return ans\n",
    "        arr[j][i] = 0\n",
    "    \n",
    "\n",
    "arr = [[0,0,0,0],[0,0,0,0],[0,0,0,0],[0,0,0,0]]\n",
    "nqueen(arr,0)"
   ]
  },
  {
   "cell_type": "markdown",
   "metadata": {},
   "source": [
    "# Suduko"
   ]
  },
  {
   "cell_type": "code",
   "execution_count": 62,
   "metadata": {},
   "outputs": [
    {
     "name": "stdout",
     "output_type": "stream",
     "text": [
      "Initial Sudoku Board:\n",
      "5 3 . . 7 . . . .\n",
      "6 . . 1 9 5 . . .\n",
      ". 9 8 . . . . 6 .\n",
      "8 . . . 6 . . . 3\n",
      "4 . . 8 . 3 . . 1\n",
      "7 . . . 2 . . . 6\n",
      ". 6 . . . . 2 8 .\n",
      ". . . 4 1 9 . . 5\n",
      ". . . . 8 . . 7 9\n",
      "\n",
      "Solved Sudoku Board:\n",
      "5 3 4 6 7 8 9 1 2\n",
      "6 7 2 1 9 5 3 4 8\n",
      "1 9 8 3 4 2 5 6 7\n",
      "8 5 9 7 6 1 4 2 3\n",
      "4 2 6 8 5 3 7 9 1\n",
      "7 1 3 9 2 4 8 5 6\n",
      "9 6 1 5 3 7 2 8 4\n",
      "2 8 7 4 1 9 6 3 5\n",
      "3 4 5 2 8 6 1 7 9\n"
     ]
    }
   ],
   "source": [
    "def is_valid(board, row, col, num):\n",
    "    \"\"\"Check if num can be placed at board[row][col]\"\"\"\n",
    "    # Check row and column\n",
    "    for i in range(9):\n",
    "        if board[row][i] == num or board[i][col] == num:\n",
    "            return False\n",
    "    \n",
    "    # Check 3x3 subgrid\n",
    "    start_row, start_col = 3 * (row // 3), 3 * (col // 3)\n",
    "    for i in range(3):\n",
    "        for j in range(3):\n",
    "            if board[start_row + i][start_col + j] == num:\n",
    "                return False\n",
    "    \n",
    "    return True\n",
    "\n",
    "def find_empty(board):\n",
    "    \"\"\"Find an empty space in the board (denoted by 0)\"\"\"\n",
    "    for i in range(9):\n",
    "        for j in range(9):\n",
    "            if board[i][j] == 0:\n",
    "                return i, j  # Return the row, col of the first empty cell\n",
    "    return None\n",
    "\n",
    "def solve_sudoku(board):\n",
    "    \"\"\"Solve Sudoku using backtracking\"\"\"\n",
    "    empty_cell = find_empty(board)\n",
    "    if not empty_cell:\n",
    "        return True  # No empty cell means the board is solved\n",
    "\n",
    "    row, col = empty_cell\n",
    "    \n",
    "    for num in range(1, 10):  # Try numbers 1-9\n",
    "        if is_valid(board, row, col, num):\n",
    "            board[row][col] = num  # Place the number\n",
    "            \n",
    "            if solve_sudoku(board):\n",
    "                return True  # If solving the next empty cell succeeds, return True\n",
    "            \n",
    "            board[row][col] = 0  # Backtrack and reset the cell\n",
    "\n",
    "    return False  # No valid number found, trigger backtracking\n",
    "\n",
    "def print_board(board):\n",
    "    \"\"\"Print the Sudoku board in a readable format\"\"\"\n",
    "    for row in board:\n",
    "        print(\" \".join(str(num) if num != 0 else \".\" for num in row))\n",
    "\n",
    "# Example Sudoku Board (0 represents empty spaces)\n",
    "sudoku_board = [\n",
    "    [5, 3, 0, 0, 7, 0, 0, 0, 0],\n",
    "    [6, 0, 0, 1, 9, 5, 0, 0, 0],\n",
    "    [0, 9, 8, 0, 0, 0, 0, 6, 0],\n",
    "    [8, 0, 0, 0, 6, 0, 0, 0, 3],\n",
    "    [4, 0, 0, 8, 0, 3, 0, 0, 1],\n",
    "    [7, 0, 0, 0, 2, 0, 0, 0, 6],\n",
    "    [0, 6, 0, 0, 0, 0, 2, 8, 0],\n",
    "    [0, 0, 0, 4, 1, 9, 0, 0, 5],\n",
    "    [0, 0, 0, 0, 8, 0, 0, 7, 9]\n",
    "]\n",
    "\n",
    "print(\"Initial Sudoku Board:\")\n",
    "print_board(sudoku_board)\n",
    "\n",
    "if solve_sudoku(sudoku_board):\n",
    "    print(\"\\nSolved Sudoku Board:\")\n",
    "    print_board(sudoku_board)\n",
    "else:\n",
    "    print(\"\\nNo solution exists\")\n"
   ]
  },
  {
   "cell_type": "code",
   "execution_count": null,
   "metadata": {},
   "outputs": [],
   "source": []
  }
 ],
 "metadata": {
  "kernelspec": {
   "display_name": "base",
   "language": "python",
   "name": "python3"
  },
  "language_info": {
   "codemirror_mode": {
    "name": "ipython",
    "version": 3
   },
   "file_extension": ".py",
   "mimetype": "text/x-python",
   "name": "python",
   "nbconvert_exporter": "python",
   "pygments_lexer": "ipython3",
   "version": "3.12.9"
  }
 },
 "nbformat": 4,
 "nbformat_minor": 2
}
