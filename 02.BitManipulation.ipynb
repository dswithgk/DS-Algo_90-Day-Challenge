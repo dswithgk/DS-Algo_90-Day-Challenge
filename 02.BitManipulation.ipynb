{
 "cells": [
  {
   "cell_type": "markdown",
   "metadata": {},
   "source": [
    "# **Bitwise Operators in Python**\n",
    "\n",
    "Bitwise operators in Python are used to perform bit-level operations on integers. These operators treat numbers as a sequence of binary digits and operate on them bit by bit.\n",
    "\n",
    "| Operator | Name | Description | Example (A = 5, B = 3) |\n",
    "|----------|------|-------------|--------------------------|\n",
    "| `&` | AND | Sets each bit to 1 if both bits are 1 | `5 & 3` → `1` (`101 & 011 = 001`) |\n",
    "| `|` | OR | Sets each bit to 1 if at least one bit is 1 | `5 | 3` → `7` (`101 | 011 = 111`) |\n",
    "| `^` | XOR | Sets each bit to 1 if only one bit is 1 | `5 ^ 3` → `6` (`101 ^ 011 = 110`) |\n",
    "| `~` | NOT | Inverts all the bits (bitwise complement) | `~5` → `-6` (Two’s complement representation) |\n",
    "| `<<` | Left Shift | Shifts bits to the left, filling with 0s | `5 << 1` → `10` (`101 << 1 = 1010`) |\n",
    "| `>>` | Right Shift | Shifts bits to the right, discarding bits | `5 >> 1` → `2` (`101 >> 1 = 10`) |\n"
   ]
  },
  {
   "cell_type": "code",
   "execution_count": 4,
   "metadata": {},
   "outputs": [
    {
     "name": "stdout",
     "output_type": "stream",
     "text": [
      "4\n",
      "8\n",
      "16\n",
      "32\n",
      "64\n"
     ]
    }
   ],
   "source": [
    "# Left Shift Operator\n",
    "print(2 << 1)\n",
    "print(2 << 2)\n",
    "print(2 << 3)\n",
    "print(2 << 4)\n",
    "print(2 << 5)"
   ]
  },
  {
   "cell_type": "code",
   "execution_count": 6,
   "metadata": {},
   "outputs": [
    {
     "name": "stdout",
     "output_type": "stream",
     "text": [
      "8\n",
      "4\n",
      "2\n",
      "1\n"
     ]
    }
   ],
   "source": [
    "# Right Shift Operator\n",
    "print(16 >> 1)\n",
    "print(16 >> 2)\n",
    "print(16 >> 3)\n",
    "print(16 >> 4)"
   ]
  },
  {
   "cell_type": "code",
   "execution_count": 10,
   "metadata": {},
   "outputs": [
    {
     "name": "stdout",
     "output_type": "stream",
     "text": [
      "1\n",
      "0\n",
      "1\n",
      "4\n",
      "5\n"
     ]
    }
   ],
   "source": [
    "# AND\n",
    "print(5 & 1)\n",
    "print(5 & 2)\n",
    "print(5 & 3)\n",
    "print(5 & 4)\n",
    "print(5 & 5)"
   ]
  },
  {
   "cell_type": "code",
   "execution_count": 11,
   "metadata": {},
   "outputs": [
    {
     "name": "stdout",
     "output_type": "stream",
     "text": [
      "5\n",
      "7\n",
      "7\n",
      "5\n",
      "5\n"
     ]
    }
   ],
   "source": [
    "# OR\n",
    "print(5 | 1)\n",
    "print(5 | 2)\n",
    "print(5 | 3)\n",
    "print(5 | 4)\n",
    "print(5 | 5)"
   ]
  },
  {
   "cell_type": "markdown",
   "metadata": {},
   "source": [
    "# ODD or Even\n",
    "- Odd Number will have last bit as one"
   ]
  },
  {
   "cell_type": "code",
   "execution_count": 12,
   "metadata": {},
   "outputs": [
    {
     "name": "stdout",
     "output_type": "stream",
     "text": [
      "True\n",
      "False\n"
     ]
    }
   ],
   "source": [
    "def check_even(num):\n",
    "    return (num & 1) == 0\n",
    "\n",
    "\n",
    "print(check_even(2))\n",
    "print(check_even(3))"
   ]
  },
  {
   "cell_type": "markdown",
   "metadata": {},
   "source": [
    "# Get i'th Bit"
   ]
  },
  {
   "cell_type": "code",
   "execution_count": 19,
   "metadata": {},
   "outputs": [
    {
     "data": {
      "text/plain": [
       "0"
      ]
     },
     "execution_count": 19,
     "metadata": {},
     "output_type": "execute_result"
    }
   ],
   "source": [
    "def get_ibit(num, i):\n",
    "    return (num >> i) & 1\n",
    "\n",
    "get_ibit(10, 2)"
   ]
  },
  {
   "cell_type": "markdown",
   "metadata": {},
   "source": [
    "# Set i'th Bit"
   ]
  },
  {
   "cell_type": "code",
   "execution_count": 20,
   "metadata": {},
   "outputs": [
    {
     "data": {
      "text/plain": [
       "14"
      ]
     },
     "execution_count": 20,
     "metadata": {},
     "output_type": "execute_result"
    }
   ],
   "source": [
    "def set_ibit(num, i):\n",
    "    return num | (1 << i)\n",
    "\n",
    "set_ibit(10, 2)"
   ]
  },
  {
   "cell_type": "markdown",
   "metadata": {},
   "source": [
    "# Clear i'th Bit"
   ]
  },
  {
   "cell_type": "code",
   "execution_count": 24,
   "metadata": {},
   "outputs": [
    {
     "data": {
      "text/plain": [
       "8"
      ]
     },
     "execution_count": 24,
     "metadata": {},
     "output_type": "execute_result"
    }
   ],
   "source": [
    "def clear_ibit(num, i):\n",
    "    return num & ~(1 << i)\n",
    "\n",
    "clear_ibit(10, 1)"
   ]
  },
  {
   "cell_type": "markdown",
   "metadata": {},
   "source": [
    "# Update i'th Bit"
   ]
  },
  {
   "cell_type": "code",
   "execution_count": 41,
   "metadata": {},
   "outputs": [
    {
     "data": {
      "text/plain": [
       "8"
      ]
     },
     "execution_count": 41,
     "metadata": {},
     "output_type": "execute_result"
    }
   ],
   "source": [
    "def update_ibit(num, i, bit):\n",
    "    num = clear_ibit(num, i)\n",
    "    num = num | (bit << i)\n",
    "    return num\n",
    "\n",
    "update_ibit(10, 1, 0)"
   ]
  },
  {
   "cell_type": "markdown",
   "metadata": {},
   "source": [
    "# Clear Last i Bit"
   ]
  },
  {
   "cell_type": "code",
   "execution_count": 54,
   "metadata": {},
   "outputs": [
    {
     "data": {
      "text/plain": [
       "8"
      ]
     },
     "execution_count": 54,
     "metadata": {},
     "output_type": "execute_result"
    }
   ],
   "source": [
    "def clear_last_ibit(num,i):\n",
    "    return num & ((-1 << (i)))\n",
    "\n",
    "clear_last_ibit(10, 2)"
   ]
  },
  {
   "cell_type": "markdown",
   "metadata": {},
   "source": [
    "# Power of 2"
   ]
  },
  {
   "cell_type": "code",
   "execution_count": 57,
   "metadata": {},
   "outputs": [
    {
     "data": {
      "text/plain": [
       "True"
      ]
     },
     "execution_count": 57,
     "metadata": {},
     "output_type": "execute_result"
    }
   ],
   "source": [
    "def is_power_of_two(num):\n",
    "    return num & (num - 1) == 0\n",
    "\n",
    "\n",
    "is_power_of_two(16)"
   ]
  },
  {
   "cell_type": "markdown",
   "metadata": {},
   "source": [
    "# Count Set Bit"
   ]
  },
  {
   "cell_type": "code",
   "execution_count": 58,
   "metadata": {},
   "outputs": [
    {
     "data": {
      "text/plain": [
       "2"
      ]
     },
     "execution_count": 58,
     "metadata": {},
     "output_type": "execute_result"
    }
   ],
   "source": [
    "def count_setbit(num):\n",
    "    count = 0\n",
    "    while num:\n",
    "        num = num & (num - 1)\n",
    "        count += 1\n",
    "    return count\n",
    "\n",
    "count_setbit(10)"
   ]
  }
 ],
 "metadata": {
  "kernelspec": {
   "display_name": "base",
   "language": "python",
   "name": "python3"
  },
  "language_info": {
   "codemirror_mode": {
    "name": "ipython",
    "version": 3
   },
   "file_extension": ".py",
   "mimetype": "text/x-python",
   "name": "python",
   "nbconvert_exporter": "python",
   "pygments_lexer": "ipython3",
   "version": "3.12.9"
  }
 },
 "nbformat": 4,
 "nbformat_minor": 2
}
