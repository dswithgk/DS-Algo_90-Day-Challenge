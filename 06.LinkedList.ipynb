{
 "cells": [
  {
   "cell_type": "markdown",
   "metadata": {
    "vscode": {
     "languageId": "plaintext"
    }
   },
   "source": [
    "# Linked List"
   ]
  },
  {
   "cell_type": "code",
   "execution_count": 25,
   "metadata": {},
   "outputs": [],
   "source": [
    "class LinkedList:\n",
    "    def __init__(self,val):\n",
    "        self.val = val\n",
    "        self.next = None\n",
    "\n",
    "    def print_list(self,head):\n",
    "        while head:\n",
    "            print(head.val,end=' -> ')\n",
    "            head = head.next\n",
    "        print('None')\n",
    "\n",
    "    \n",
    "    def insert_at_head(self,head,val):\n",
    "        new_node = LinkedList(val)\n",
    "        new_node.next = head\n",
    "        return new_node\n",
    "    \n",
    "    def insert_at_tail(self,head,val):\n",
    "        new_node = LinkedList(val)\n",
    "        temp = head\n",
    "        while temp.next:\n",
    "            temp = temp.next\n",
    "        temp.next = new_node\n",
    "        return head\n",
    "    \n",
    "    def insert_at_position(self,head,val,pos):\n",
    "        new_node = LinkedList(val)\n",
    "        temp = head\n",
    "        for i in range(pos-1):\n",
    "            temp = temp.next\n",
    "        new_node.next = temp.next\n",
    "        temp.next = new_node\n",
    "        return head\n",
    "    \n",
    "    def search(self,head,val):\n",
    "        temp = head\n",
    "        while temp:\n",
    "            if temp.val == val:\n",
    "                print(f\"Normal Search : Found {val}\")\n",
    "                return True\n",
    "            temp = temp.next\n",
    "        return False\n",
    "    \n",
    "    def recursive_search(self,head,val):\n",
    "        if head is None:\n",
    "            return False\n",
    "        if head.val == val:\n",
    "            print(f\"Recursive Search : Found {val}\")\n",
    "            return True\n",
    "        return self.recursive_search(head.next,val)\n",
    "    \n",
    "    def reverse_linkedlist(self,head):\n",
    "        prev = None\n",
    "        current = head\n",
    "        while current:\n",
    "            next_node = current.next\n",
    "            current.next = prev\n",
    "            prev = current\n",
    "            current = next_node\n",
    "        return prev\n",
    "    \n",
    "    def recursive_reverse_linkedlist(self,head):\n",
    "        if head is None or head.next is None:\n",
    "            return head\n",
    "        p = self.recursive_reverse_linkedlist(head.next)\n",
    "        head.next.next = head\n",
    "        head.next = None\n",
    "        return p"
   ]
  },
  {
   "cell_type": "code",
   "execution_count": 26,
   "metadata": {},
   "outputs": [
    {
     "name": "stdout",
     "output_type": "stream",
     "text": [
      "Normal Search : Found 10\n",
      "Recursive Search : Found 10\n",
      "\n",
      "Print list\n",
      "-1 -> 0 -> 1 -> 10 -> 2 -> 3 -> 14 -> None\n",
      "\n",
      "Reversing list\n",
      "14 -> 3 -> 2 -> 10 -> 1 -> 0 -> -1 -> None\n",
      "\n",
      "Reversing list\n",
      "-1 -> 0 -> 1 -> 10 -> 2 -> 3 -> 14 -> None\n"
     ]
    }
   ],
   "source": [
    "head = LinkedList(0)\n",
    "l1 = LinkedList(1)\n",
    "l2 = LinkedList(2)\n",
    "l3 = LinkedList(3)\n",
    "head.next = l1\n",
    "l1.next = l2\n",
    "l2.next = l3\n",
    "\n",
    "new_head = head.insert_at_head(head,-1)\n",
    "new_head = head.insert_at_tail(new_head,14)\n",
    "new_head = head.insert_at_position(new_head,10,3)\n",
    "\n",
    "new_head.search(new_head,10)\n",
    "new_head.recursive_search(new_head,10)\n",
    "\n",
    "print(\"\\nPrint list\")\n",
    "new_head.print_list(new_head)\n",
    "\n",
    "print(\"\\nReversing list\")\n",
    "new_head = head.reverse_linkedlist(new_head)\n",
    "new_head.print_list(new_head)\n",
    "\n",
    "print(\"\\nReversing list\")\n",
    "new_head = head.recursive_reverse_linkedlist(new_head)\n",
    "new_head.print_list(new_head)"
   ]
  }
 ],
 "metadata": {
  "kernelspec": {
   "display_name": "base",
   "language": "python",
   "name": "python3"
  },
  "language_info": {
   "codemirror_mode": {
    "name": "ipython",
    "version": 3
   },
   "file_extension": ".py",
   "mimetype": "text/x-python",
   "name": "python",
   "nbconvert_exporter": "python",
   "pygments_lexer": "ipython3",
   "version": "3.12.9"
  }
 },
 "nbformat": 4,
 "nbformat_minor": 2
}
