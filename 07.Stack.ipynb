{
 "cells": [
  {
   "cell_type": "markdown",
   "metadata": {},
   "source": [
    "# Stack"
   ]
  },
  {
   "cell_type": "code",
   "execution_count": 2,
   "metadata": {},
   "outputs": [],
   "source": [
    "class Stack:\n",
    "    def __init__(self,len):\n",
    "        self.stack = []\n",
    "        self.len = len\n",
    "\n",
    "    def push(self,element):\n",
    "        if not self.isFull():\n",
    "            self.stack.append(element)\n",
    "        else:\n",
    "            print(\"Stack is full\")\n",
    "    def pop(self):\n",
    "        if not self.isEmpty():\n",
    "            return self.stack.pop()\n",
    "        else:\n",
    "            print(\"Stack is empty\")\n",
    "    \n",
    "    def peek(self):\n",
    "        if not self.isEmpty():\n",
    "            return self.stack[-1]\n",
    "        else:\n",
    "            print(\"Stack is empty\")\n",
    "\n",
    "    def display(self):\n",
    "        print(self.stack)\n",
    "\n",
    "    def size(self):\n",
    "        return len(self.stack)\n",
    "    \n",
    "    def isEmpty(self):      \n",
    "        return len(self.stack) == 0\n",
    "    \n",
    "    def isFull(self):\n",
    "        return len(self.stack) == self.len"
   ]
  },
  {
   "cell_type": "code",
   "execution_count": 5,
   "metadata": {},
   "outputs": [
    {
     "name": "stdout",
     "output_type": "stream",
     "text": [
      "Stack is full\n",
      "[10, 20, 30, 40]\n",
      "40\n",
      "[10, 20, 30]\n",
      "30\n",
      "3\n",
      "False\n",
      "False\n",
      "[10, 20, 30]\n"
     ]
    }
   ],
   "source": [
    "stk =  Stack(4)\n",
    "stk.push(10)\n",
    "stk.push(20)\n",
    "stk.push(30)\n",
    "stk.push(40)\n",
    "stk.push(50)\n",
    "stk.display()\n",
    "print(stk.pop())\n",
    "stk.display()\n",
    "print(stk.peek())\n",
    "print(stk.size())\n",
    "print(stk.isEmpty())\n",
    "print(stk.isFull())\n",
    "stk.display()"
   ]
  },
  {
   "cell_type": "markdown",
   "metadata": {},
   "source": [
    "# Reverse Number Using Stack"
   ]
  },
  {
   "cell_type": "code",
   "execution_count": null,
   "metadata": {},
   "outputs": [
    {
     "name": "stdout",
     "output_type": "stream",
     "text": [
      "[1, 2, 3, 4, 5]\n",
      "[5, 4, 3, 2, 1]\n"
     ]
    }
   ],
   "source": [
    "li = [1,2,3,4,5]\n",
    "stk = Stack(len(li))\n",
    "\n",
    "for i in li:\n",
    "    stk.push(i)\n",
    "stk.display()\n",
    "\n",
    "rev = []\n",
    "while not stk.isEmpty():\n",
    "    rev.append(stk.pop())\n",
    "print(rev)"
   ]
  },
  {
   "cell_type": "markdown",
   "metadata": {},
   "source": [
    "# Stock Span Problem\n",
    "\n",
    "Given list of prices of stock for n number of days. Calculate span of stock price i.e Number of days this proce of highest."
   ]
  },
  {
   "cell_type": "code",
   "execution_count": 12,
   "metadata": {},
   "outputs": [
    {
     "name": "stdout",
     "output_type": "stream",
     "text": [
      "[1, 1, 2, 1, 4, 6]\n"
     ]
    }
   ],
   "source": [
    "li = [100,80,60,70,60,75,85]\n",
    "\n",
    "stk = Stack(len(li))\n",
    "\n",
    "stk.push((0,li[0]))\n",
    "\n",
    "ans = []\n",
    "\n",
    "for i in range(1,len(li)):\n",
    "    ele = li[i]\n",
    "\n",
    "    while (not stk.isEmpty() and stk.peek()[1] < ele):\n",
    "        stk.pop()\n",
    "    span = (i-stk.peek()[0]) if (i-stk.peek()[0]) != 0 else 1\n",
    "    ans.append(span)\n",
    "    stk.push((i,ele))\n",
    "\n",
    "print(ans)"
   ]
  }
 ],
 "metadata": {
  "kernelspec": {
   "display_name": "base",
   "language": "python",
   "name": "python3"
  },
  "language_info": {
   "codemirror_mode": {
    "name": "ipython",
    "version": 3
   },
   "file_extension": ".py",
   "mimetype": "text/x-python",
   "name": "python",
   "nbconvert_exporter": "python",
   "pygments_lexer": "ipython3",
   "version": "3.12.9"
  }
 },
 "nbformat": 4,
 "nbformat_minor": 2
}
